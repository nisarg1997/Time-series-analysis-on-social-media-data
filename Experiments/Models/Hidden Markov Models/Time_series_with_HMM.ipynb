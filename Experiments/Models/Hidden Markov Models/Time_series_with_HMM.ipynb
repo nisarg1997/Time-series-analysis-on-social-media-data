{
  "nbformat": 4,
  "nbformat_minor": 0,
  "metadata": {
    "colab": {
      "name": "IRE_time_series.ipynb",
      "provenance": []
    },
    "kernelspec": {
      "name": "python3",
      "display_name": "Python 3"
    }
  },
  "cells": [
    {
      "cell_type": "code",
      "metadata": {
        "id": "rRYBqUOh764U",
        "outputId": "9d4b2d59-040f-4c1e-f4a9-6b982dad365a",
        "colab": {
          "base_uri": "https://localhost:8080/"
        }
      },
      "source": [
        "pip install hmmlearn"
      ],
      "execution_count": 1,
      "outputs": [
        {
          "output_type": "stream",
          "text": [
            "Collecting hmmlearn\n",
            "\u001b[?25l  Downloading https://files.pythonhosted.org/packages/b3/49/9e9a89cee24b26ef6afec5abbd5eb9cf14632855f32b999389873ecb1b4e/hmmlearn-0.2.4-cp36-cp36m-manylinux1_x86_64.whl (361kB)\n",
            "\r\u001b[K     |█                               | 10kB 13.2MB/s eta 0:00:01\r\u001b[K     |█▉                              | 20kB 2.8MB/s eta 0:00:01\r\u001b[K     |██▊                             | 30kB 3.9MB/s eta 0:00:01\r\u001b[K     |███▋                            | 40kB 4.2MB/s eta 0:00:01\r\u001b[K     |████▌                           | 51kB 3.3MB/s eta 0:00:01\r\u001b[K     |█████▍                          | 61kB 3.7MB/s eta 0:00:01\r\u001b[K     |██████▍                         | 71kB 4.0MB/s eta 0:00:01\r\u001b[K     |███████▎                        | 81kB 4.4MB/s eta 0:00:01\r\u001b[K     |████████▏                       | 92kB 4.7MB/s eta 0:00:01\r\u001b[K     |█████████                       | 102kB 4.4MB/s eta 0:00:01\r\u001b[K     |██████████                      | 112kB 4.4MB/s eta 0:00:01\r\u001b[K     |██████████▉                     | 122kB 4.4MB/s eta 0:00:01\r\u001b[K     |███████████▉                    | 133kB 4.4MB/s eta 0:00:01\r\u001b[K     |████████████▊                   | 143kB 4.4MB/s eta 0:00:01\r\u001b[K     |█████████████▋                  | 153kB 4.4MB/s eta 0:00:01\r\u001b[K     |██████████████▌                 | 163kB 4.4MB/s eta 0:00:01\r\u001b[K     |███████████████▍                | 174kB 4.4MB/s eta 0:00:01\r\u001b[K     |████████████████▎               | 184kB 4.4MB/s eta 0:00:01\r\u001b[K     |█████████████████▎              | 194kB 4.4MB/s eta 0:00:01\r\u001b[K     |██████████████████▏             | 204kB 4.4MB/s eta 0:00:01\r\u001b[K     |███████████████████             | 215kB 4.4MB/s eta 0:00:01\r\u001b[K     |████████████████████            | 225kB 4.4MB/s eta 0:00:01\r\u001b[K     |████████████████████▉           | 235kB 4.4MB/s eta 0:00:01\r\u001b[K     |█████████████████████▊          | 245kB 4.4MB/s eta 0:00:01\r\u001b[K     |██████████████████████▊         | 256kB 4.4MB/s eta 0:00:01\r\u001b[K     |███████████████████████▋        | 266kB 4.4MB/s eta 0:00:01\r\u001b[K     |████████████████████████▌       | 276kB 4.4MB/s eta 0:00:01\r\u001b[K     |█████████████████████████▍      | 286kB 4.4MB/s eta 0:00:01\r\u001b[K     |██████████████████████████▎     | 296kB 4.4MB/s eta 0:00:01\r\u001b[K     |███████████████████████████▏    | 307kB 4.4MB/s eta 0:00:01\r\u001b[K     |████████████████████████████    | 317kB 4.4MB/s eta 0:00:01\r\u001b[K     |█████████████████████████████   | 327kB 4.4MB/s eta 0:00:01\r\u001b[K     |██████████████████████████████  | 337kB 4.4MB/s eta 0:00:01\r\u001b[K     |██████████████████████████████▉ | 348kB 4.4MB/s eta 0:00:01\r\u001b[K     |███████████████████████████████▊| 358kB 4.4MB/s eta 0:00:01\r\u001b[K     |████████████████████████████████| 368kB 4.4MB/s \n",
            "\u001b[?25hRequirement already satisfied: numpy>=1.10 in /usr/local/lib/python3.6/dist-packages (from hmmlearn) (1.18.5)\n",
            "Requirement already satisfied: scipy>=0.19 in /usr/local/lib/python3.6/dist-packages (from hmmlearn) (1.4.1)\n",
            "Requirement already satisfied: scikit-learn>=0.16 in /usr/local/lib/python3.6/dist-packages (from hmmlearn) (0.22.2.post1)\n",
            "Requirement already satisfied: joblib>=0.11 in /usr/local/lib/python3.6/dist-packages (from scikit-learn>=0.16->hmmlearn) (0.17.0)\n",
            "Installing collected packages: hmmlearn\n",
            "Successfully installed hmmlearn-0.2.4\n"
          ],
          "name": "stdout"
        }
      ]
    },
    {
      "cell_type": "code",
      "metadata": {
        "id": "t4QpTk2T3cFZ"
      },
      "source": [
        "import pandas as pd\n",
        "import numpy as np\n",
        "from matplotlib import pyplot as plt\n",
        "from collections import Counter\n",
        "from datetime import datetime\n",
        "import calendar\n",
        "from hmmlearn import hmm"
      ],
      "execution_count": 2,
      "outputs": []
    },
    {
      "cell_type": "code",
      "metadata": {
        "id": "JX-DAoqw3wUh"
      },
      "source": [
        "df_1 = pd.read_csv('/content/drive/My Drive/Mental Health blog dataset/beyondblue_depression.csv')\n",
        "df_2 = pd.read_csv( \"/content/drive/My Drive/Mental Health blog dataset/beyondblue_ptsd-trauma.csv\")\n",
        "df_3 = pd.read_csv('/content/drive/My Drive/Mental Health blog dataset/beyondblue_anxiety.csv')\n",
        "df_4 = pd.read_csv ('/content/drive/My Drive/Mental Health blog dataset/beyondblue_suicidal-thoughts-and-self-harm.csv')"
      ],
      "execution_count": 3,
      "outputs": []
    },
    {
      "cell_type": "code",
      "metadata": {
        "id": "Cmr3S3AL3xkn",
        "outputId": "ac1f3172-ff74-49f2-ddfd-1fde9c0fceb6",
        "colab": {
          "base_uri": "https://localhost:8080/"
        }
      },
      "source": [
        "df_List = [df_1 , df_2, df_3, df_4]  \n",
        "df_1.columns"
      ],
      "execution_count": 4,
      "outputs": [
        {
          "output_type": "execute_result",
          "data": {
            "text/plain": [
              "Index(['Unnamed: 0', 'title', 'author', 'num posts by author', 'date',\n",
              "       'num likes', 'post', 'category', 'is_reply'],\n",
              "      dtype='object')"
            ]
          },
          "metadata": {
            "tags": []
          },
          "execution_count": 4
        }
      ]
    },
    {
      "cell_type": "code",
      "metadata": {
        "id": "FHF-bfAp26TS"
      },
      "source": [
        "for data_frame in df_List : \n",
        "  data_frame['index_indi'] = pd.Series ([i for i in range (data_frame.shape[0])])"
      ],
      "execution_count": 5,
      "outputs": []
    },
    {
      "cell_type": "code",
      "metadata": {
        "id": "51E7B_jk6621"
      },
      "source": [
        "df = pd.concat(df_List, ignore_index=True)"
      ],
      "execution_count": 6,
      "outputs": []
    },
    {
      "cell_type": "code",
      "metadata": {
        "id": "fGJxMxjC8Gz3",
        "outputId": "84011975-b7d0-4f09-dc58-cbd0e05afe6e",
        "colab": {
          "base_uri": "https://localhost:8080/"
        }
      },
      "source": [
        "for i in range (df.date.shape[0]) : \n",
        "  df.date[i] = datetime.strptime(df.date[i], '%d %B %Y')\n",
        "df.sort_values(by=['date'], inplace=True)"
      ],
      "execution_count": 7,
      "outputs": [
        {
          "output_type": "stream",
          "text": [
            "/usr/local/lib/python3.6/dist-packages/ipykernel_launcher.py:2: SettingWithCopyWarning: \n",
            "A value is trying to be set on a copy of a slice from a DataFrame\n",
            "\n",
            "See the caveats in the documentation: https://pandas.pydata.org/pandas-docs/stable/user_guide/indexing.html#returning-a-view-versus-a-copy\n",
            "  \n"
          ],
          "name": "stderr"
        }
      ]
    },
    {
      "cell_type": "code",
      "metadata": {
        "id": "AVnTEQ1v90cs"
      },
      "source": [
        "unique_name = df.author.unique().tolist()\n",
        "unique_name = np.unique(np.array(unique_name))"
      ],
      "execution_count": 8,
      "outputs": []
    },
    {
      "cell_type": "code",
      "metadata": {
        "id": "vtkY1Z9SAL8y"
      },
      "source": [
        "post_per_person = []\n",
        "for k, name in enumerate (unique_name) :\n",
        "  post_counts = df.loc[df['author'] == name].shape[0]\n",
        "  post_per_person.append ( [name, int (post_counts)] )"
      ],
      "execution_count": 9,
      "outputs": []
    },
    {
      "cell_type": "code",
      "metadata": {
        "id": "pGnk0kImEYC3",
        "outputId": "f6e7ff4b-d030-4fab-9a49-7099b6f24e49",
        "colab": {
          "base_uri": "https://localhost:8080/"
        }
      },
      "source": [
        "temp = []\n",
        "for i in range (len(post_per_person)) : \n",
        "  temp.append (post_per_person[i][1])\n",
        "sum (temp) / len(post_per_person)"
      ],
      "execution_count": 10,
      "outputs": [
        {
          "output_type": "execute_result",
          "data": {
            "text/plain": [
              "4.195852041907205"
            ]
          },
          "metadata": {
            "tags": []
          },
          "execution_count": 10
        }
      ]
    },
    {
      "cell_type": "code",
      "metadata": {
        "id": "d06QXH_oGEE3"
      },
      "source": [
        "sub_data_names = [] \n",
        "for i, freq in enumerate (temp) : \n",
        "  if freq >= 5 and freq <= 50 : \n",
        "    sub_data_names.append (post_per_person[i][0])\n"
      ],
      "execution_count": 11,
      "outputs": []
    },
    {
      "cell_type": "code",
      "metadata": {
        "id": "KdzwZ35GbDap"
      },
      "source": [
        "sub_data_set = [] \n",
        "for name in sub_data_names : \n",
        "  sub_data_set.append (df.loc[df.author == name])"
      ],
      "execution_count": 12,
      "outputs": []
    },
    {
      "cell_type": "code",
      "metadata": {
        "id": "JEVITBCvb6lS"
      },
      "source": [
        "train_cases = []\n",
        "for i in range(len ( sub_data_set) ) : \n",
        "    cat = sub_data_set[i]['category'].to_numpy()\n",
        "    if 'suicidal-thoughts-and-self-harm' in cat and 'depression' in  cat: \n",
        "      temp_1 = sub_data_set[i][sub_data_set[i].category == 'suicidal-thoughts-and-self-harm']\n",
        "      temp_2 = sub_data_set[i][sub_data_set[i].category == 'depression']\n",
        "      sub_data_set[i] = pd.concat([temp_1, temp_2])\n",
        "      sub_data_set[i].sort_values(by=['date'], inplace=True)\n",
        "      train_cases.append (sub_data_set[i])"
      ],
      "execution_count": 13,
      "outputs": []
    },
    {
      "cell_type": "code",
      "metadata": {
        "id": "wZHmTJuZ-H3s",
        "outputId": "05177f0b-2233-44c7-ebc5-8eac6f180516",
        "colab": {
          "base_uri": "https://localhost:8080/"
        }
      },
      "source": [
        "len(train_cases)"
      ],
      "execution_count": 14,
      "outputs": [
        {
          "output_type": "execute_result",
          "data": {
            "text/plain": [
              "70"
            ]
          },
          "metadata": {
            "tags": []
          },
          "execution_count": 14
        }
      ]
    },
    {
      "cell_type": "markdown",
      "metadata": {
        "id": "epnKAjiR-QyW"
      },
      "source": [
        "there are 70 unique users who hame posted in depression forum as well as suicide forum. \n"
      ]
    },
    {
      "cell_type": "code",
      "metadata": {
        "id": "db6bz6i4ewUu"
      },
      "source": [
        "LIWC_anxity = pd.read_csv (\"/content/drive/My Drive/Mental Health blog dataset/LIWC2015 Results (anxiety (17189 files)).csv\")\n",
        "LIWC_depression = pd.read_csv ( \"/content/drive/My Drive/Mental Health blog dataset/LIWC2015 Results (depression (16131 files)).csv\")\n",
        "LIWC_suicide = pd.read_excel ( \"/content/drive/My Drive/Mental Health blog dataset/LIWC2015 Results (selfharm (1590 files)).xlsx\")\n",
        "LIWC_PTSD = pd.read_excel ( \"/content/drive/My Drive/Mental Health blog dataset/LIWC2015 Results (trauma (4338 files)).xlsx\" ) \n",
        "\n",
        "LIWC_df = pd.concat([LIWC_anxity, LIWC_depression, LIWC_suicide, LIWC_PTSD])"
      ],
      "execution_count": 15,
      "outputs": []
    },
    {
      "cell_type": "code",
      "metadata": {
        "id": "q7Ml7cg8FL46"
      },
      "source": [
        "col = LIWC_df.columns[2:]"
      ],
      "execution_count": 16,
      "outputs": []
    },
    {
      "cell_type": "code",
      "metadata": {
        "id": "3eEsAPeh7yKy"
      },
      "source": [
        "LIWC_sequence = []\n",
        "\n",
        "for case in train_cases : \n",
        "  temp = []\n",
        "  for index, cat in zip ( case.index.to_numpy(), case.category.to_numpy() ): \n",
        "    if cat == 'suicidal-thoughts-and-self-harm' : \n",
        "      file_name = \"selfharm_\" + str (index) + \"_.txt\" \n",
        "    elif cat == 'depression' : \n",
        "      file_name = \"depression_\" + str (index) +\"_.txt\" \n",
        "    liwc_vec = LIWC_df[LIWC_df.Filename == file_name][col].to_numpy().flatten()\n",
        "    if liwc_vec.shape[0] > 0 : \n",
        "      temp.append (liwc_vec)\n",
        "  if len (temp) >= 5: \n",
        "    LIWC_sequence.append (temp)  "
      ],
      "execution_count": 17,
      "outputs": []
    },
    {
      "cell_type": "code",
      "metadata": {
        "id": "dTqAldoWHK_m"
      },
      "source": [
        "lengths = []\n",
        "X = []\n",
        "for i in range (len(LIWC_sequence)) : \n",
        "  lengths.append (len(LIWC_sequence[i]))  \n",
        "  X += LIWC_sequence[i]"
      ],
      "execution_count": 18,
      "outputs": []
    },
    {
      "cell_type": "code",
      "metadata": {
        "id": "LQ7vLKX7_otP",
        "outputId": "f7a5c7cc-ebe0-45db-f55f-edadaf054042",
        "colab": {
          "base_uri": "https://localhost:8080/"
        }
      },
      "source": [
        "model = hmm.GaussianHMM(2, \"full\", algorithm='viterbi')\n",
        "model.fit (X, lengths)"
      ],
      "execution_count": 19,
      "outputs": [
        {
          "output_type": "execute_result",
          "data": {
            "text/plain": [
              "GaussianHMM(algorithm='viterbi', covariance_type='full', covars_prior=0.01,\n",
              "            covars_weight=1, init_params='stmc', means_prior=0, means_weight=0,\n",
              "            min_covar=0.001, n_components=2, n_iter=10, params='stmc',\n",
              "            random_state=None, startprob_prior=1.0, tol=0.01,\n",
              "            transmat_prior=1.0, verbose=False)"
            ]
          },
          "metadata": {
            "tags": []
          },
          "execution_count": 19
        }
      ]
    },
    {
      "cell_type": "code",
      "metadata": {
        "id": "oiOcWCPxv_SF",
        "outputId": "ac829df6-678e-4438-eff8-3062903b1b89",
        "colab": {
          "base_uri": "https://localhost:8080/"
        }
      },
      "source": [
        "model.predict ([X[0], X[1], X[2], X[3], X[4], X[5], X[6], X[7]] ), train_cases[0].category.to_numpy() "
      ],
      "execution_count": 20,
      "outputs": [
        {
          "output_type": "execute_result",
          "data": {
            "text/plain": [
              "(array([1, 0, 0, 0, 1, 1, 0, 1]),\n",
              " array(['depression', 'depression', 'depression', 'depression',\n",
              "        'suicidal-thoughts-and-self-harm', 'depression', 'depression',\n",
              "        'depression'], dtype=object))"
            ]
          },
          "metadata": {
            "tags": []
          },
          "execution_count": 20
        }
      ]
    },
    {
      "cell_type": "code",
      "metadata": {
        "id": "V4IYliMYQpf7",
        "outputId": "fedee11d-f25a-48d5-b459-b63673f70e2d",
        "colab": {
          "base_uri": "https://localhost:8080/"
        }
      },
      "source": [
        "model.predict ([X[8], X[9], X[10], X[11], X[12]), train_cases[1].category.to_numpy() "
      ],
      "execution_count": 21,
      "outputs": [
        {
          "output_type": "execute_result",
          "data": {
            "text/plain": [
              "(array([1, 1, 0, 1, 1, 0, 1]),\n",
              " array(['suicidal-thoughts-and-self-harm', 'depression', 'depression',\n",
              "        'suicidal-thoughts-and-self-harm',\n",
              "        'suicidal-thoughts-and-self-harm'], dtype=object))"
            ]
          },
          "metadata": {
            "tags": []
          },
          "execution_count": 21
        }
      ]
    }
  ]
}