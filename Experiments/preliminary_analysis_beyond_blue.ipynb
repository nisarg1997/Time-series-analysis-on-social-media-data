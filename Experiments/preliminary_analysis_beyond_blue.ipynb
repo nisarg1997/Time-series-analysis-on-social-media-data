{
  "nbformat": 4,
  "nbformat_minor": 0,
  "metadata": {
    "colab": {
      "name": "mental_health_IRE_plots.ipynb",
      "provenance": [],
      "collapsed_sections": []
    },
    "kernelspec": {
      "name": "python3",
      "display_name": "Python 3"
    }
  },
  "cells": [
    {
      "cell_type": "code",
      "metadata": {
        "id": "aSB3QCfEfn2F"
      },
      "source": [
        "import pandas as pd\n",
        "import numpy as np\n",
        "from matplotlib import pyplot as plt\n",
        "from collections import Counter\n",
        "from datetime import datetime\n",
        "import calendar"
      ],
      "execution_count": null,
      "outputs": []
    },
    {
      "cell_type": "code",
      "metadata": {
        "id": "sLKG40e4gCJD"
      },
      "source": [
        "df_1 = pd.read_csv('/content/drive/My Drive/Mental Health blog dataset/beyondblue_depression.csv')\n",
        "df_2 = pd.read_csv( \"/content/drive/My Drive/Mental Health blog dataset/beyondblue_ptsd-trauma.csv\" )\n",
        "df_3 = pd.read_csv('/content/drive/My Drive/Mental Health blog dataset/beyondblue_anxiety.csv')\n",
        "df_4 = pd.read_csv ('/content/drive/My Drive/Mental Health blog dataset/beyondblue_suicidal-thoughts-and-self-harm.csv')"
      ],
      "execution_count": null,
      "outputs": []
    },
    {
      "cell_type": "code",
      "metadata": {
        "id": "eLkGHNZ02mDF",
        "outputId": "998c35ad-5c73-424a-e08a-4135c03cc295",
        "colab": {
          "base_uri": "https://localhost:8080/",
          "height": 66
        }
      },
      "source": [
        "df_1.columns"
      ],
      "execution_count": null,
      "outputs": [
        {
          "output_type": "execute_result",
          "data": {
            "text/plain": [
              "Index(['Unnamed: 0', 'title', 'author', 'num posts by author', 'date',\n",
              "       'num likes', 'post', 'category', 'is_reply'],\n",
              "      dtype='object')"
            ]
          },
          "metadata": {
            "tags": []
          },
          "execution_count": 6
        }
      ]
    },
    {
      "cell_type": "code",
      "metadata": {
        "id": "q7wg4oA0ykji"
      },
      "source": [
        "def Year_plot (df) : \n",
        "\n",
        "  dates = df.date.to_numpy()\n",
        "  C = Counter (dates)\n",
        "\n",
        "  time = []\n",
        "  for key in C : \n",
        "    time.append (datetime.strptime(key, '%d %B %Y'))\n",
        "  time  = sorted (time)\n",
        "\n",
        "  year_data = []\n",
        "  temp = []\n",
        "  Y = time[0].year\n",
        "  year = [Y]\n",
        "  for i in range (len(time)) :\n",
        "    if time[i].year == Y :\n",
        "      temp.append(C[time[i].strftime (\"%d %B %Y\")])\n",
        "    else : \n",
        "      year_data.append (sum(temp))\n",
        "      Y = time[i].year\n",
        "      temp = [C[time[i].strftime (\"%d %B %Y\")]]\n",
        "      year.append (Y)\n",
        "\n",
        "  if temp : \n",
        "    year_data.append (sum (temp))\n",
        "\n",
        "  fig = plt.figure()\n",
        "  ax = fig.add_axes([0,0,1,1])\n",
        "  print (year, year_data)\n",
        "  ax.bar( year, year_data)\n",
        "  plt.plot()"
      ],
      "execution_count": null,
      "outputs": []
    },
    {
      "cell_type": "code",
      "metadata": {
        "id": "io4WdVW0xtKc"
      },
      "source": [
        "def Month_plot (df, cum) : \n",
        "\n",
        "  dates = df.date.to_numpy()\n",
        "  C = Counter (dates)\n",
        "\n",
        "  time = []\n",
        "  for key in C : \n",
        "    time.append (datetime.strptime(key, '%d %B %Y'))\n",
        "  time  = sorted (time)\n",
        "\n",
        "  month_data = []\n",
        "  temp = []\n",
        "  M = time[0].month\n",
        "  Month = [M]\n",
        "  for i in range (len(time)) :\n",
        "    if time[i].month == M :\n",
        "      temp.append(C[time[i].strftime (\"%d %B %Y\")])\n",
        "    else : \n",
        "      month_data.append (sum(temp))\n",
        "      M = time[i].month\n",
        "      temp = [C[time[i].strftime (\"%d %B %Y\")]]\n",
        "      Month.append (M)\n",
        "\n",
        "  if temp : \n",
        "    month_data.append (sum (temp))\n",
        "\n",
        " \n",
        "  print (np.mean(np.array(month_data)))\n",
        "  if cum :\n",
        "    D = {} \n",
        "    for i in range (len(Month)) : \n",
        "      D[Month[i]] = D.get ( Month[i], 0 ) + month_data[i]\n",
        "    fig = plt.figure()\n",
        "    ax = fig.add_axes([0,0,1,1])\n",
        "    ax.bar (sorted (D.keys()), [D[i] for i in sorted (D.keys()) ] )\n",
        "    plt.plot()\n",
        "  else: \n",
        "\n",
        "    print (len(month_data), month_data)\n",
        "    fig, ax = plt.subplots(2, 4, sharex='col', sharey='row', figsize=(15,8), )\n",
        "\n",
        "    z = 0 \n",
        "    Y = 2013\n",
        "    for i in range(2): \n",
        "      for j in range (4) :  \n",
        "          Year_data =month_data[12*z:12*(z+1)]\n",
        "          ax[i, j].bar ([i for i in range (len(Year_data))], Year_data )\n",
        "          ax[i, j].set_xlabel (\"for year \" + str (Y) ) \n",
        "          z += 1\n",
        "          Y += 1\n",
        "    plt.plot ()"
      ],
      "execution_count": null,
      "outputs": []
    },
    {
      "cell_type": "code",
      "metadata": {
        "id": "IM7v5BPL3qKB"
      },
      "source": [
        "def DAY_PLOT (df) : \n",
        "\n",
        "  dates = df.date.to_numpy()\n",
        "  C = Counter (dates)\n",
        "\n",
        "  time = []\n",
        "  for key in C : \n",
        "    time.append (datetime.strptime(key, '%d %B %Y'))\n",
        "  time  = sorted (time)\n",
        "\n",
        "  freq  = []\n",
        "  for i in range (len(time)): \n",
        "    freq.append ( C[time[i].strftime (\"%d %B %Y\")] )\n",
        "\n",
        "  fig = plt.figure()\n",
        "  ax = fig.add_axes([0,0,1,1])\n",
        "  ax.bar( [i for i in range (len(freq))], freq)\n",
        "  plt.plot()"
      ],
      "execution_count": null,
      "outputs": []
    },
    {
      "cell_type": "code",
      "metadata": {
        "id": "382dJxstyHBi",
        "outputId": "ac072bf8-4642-4d5c-955a-8b7ccbfb7910",
        "colab": {
          "base_uri": "https://localhost:8080/",
          "height": 550
        }
      },
      "source": [
        "Month_plot (df_1, 0 )"
      ],
      "execution_count": null,
      "outputs": [
        {
          "output_type": "stream",
          "text": [
            "131.3793103448276\n",
            "87 [14, 118, 120, 61, 82, 83, 162, 170, 208, 344, 82, 55, 43, 96, 191, 172, 215, 164, 206, 264, 113, 148, 116, 180, 107, 140, 105, 99, 109, 117, 96, 132, 170, 147, 103, 148, 114, 128, 93, 141, 65, 105, 149, 135, 111, 226, 97, 138, 158, 88, 109, 144, 109, 163, 175, 143, 108, 96, 107, 118, 145, 154, 98, 114, 114, 93, 130, 173, 134, 98, 115, 137, 146, 133, 142, 104, 117, 116, 182, 165, 130, 106, 98, 107, 209, 222, 48]\n"
          ],
          "name": "stdout"
        },
        {
          "output_type": "display_data",
          "data": {
            "image/png": "[encoded data removed]",
            "text/plain": [
              "<Figure size 1080x576 with 8 Axes>"
            ]
          },
          "metadata": {
            "tags": [],
            "needs_background": "light"
          }
        }
      ]
    },
    {
      "cell_type": "code",
      "metadata": {
        "id": "Oq_w7i3xN73D",
        "outputId": "f8f80a4c-33b2-4733-ee21-ad066532a090",
        "colab": {
          "base_uri": "https://localhost:8080/",
          "height": 550
        }
      },
      "source": [
        "Month_plot (df_2, 0 )"
      ],
      "execution_count": null,
      "outputs": [
        {
          "output_type": "stream",
          "text": [
            "42.054794520547944\n",
            "73 [0, 0, 5, 5, 0, 5, 2, 1, 4, 0, 5, 9, 8, 10, 2, 14, 16, 19, 29, 33, 9, 36, 37, 28, 12, 39, 55, 44, 24, 59, 37, 68, 79, 81, 61, 66, 54, 70, 42, 58, 46, 33, 27, 63, 27, 33, 32, 87, 40, 65, 57, 40, 61, 73, 62, 48, 57, 93, 42, 60, 93, 37, 48, 68, 96, 65, 40, 65, 46, 72, 117, 113, 38]\n"
          ],
          "name": "stdout"
        },
        {
          "output_type": "display_data",
          "data": {
            "image/png": "[encoded data removed]",
            "text/plain": [
              "<Figure size 1080x576 with 8 Axes>"
            ]
          },
          "metadata": {
            "tags": [],
            "needs_background": "light"
          }
        }
      ]
    },
    {
      "cell_type": "code",
      "metadata": {
        "id": "DgkOL9exyci1",
        "outputId": "eed79649-da71-4f91-93e7-e5da4799822d",
        "colab": {
          "base_uri": "https://localhost:8080/",
          "height": 352
        }
      },
      "source": [
        "Year_plot (df_1)"
      ],
      "execution_count": null,
      "outputs": [
        {
          "output_type": "stream",
          "text": [
            "[2013, 2014, 2015, 2016, 2017, 2018, 2019, 2020] [1018, 1945, 1519, 1439, 1658, 1476, 1585, 790]\n"
          ],
          "name": "stdout"
        },
        {
          "output_type": "display_data",
          "data": {
            "image/png": "[encoded data removed]",
            "text/plain": [
              "<Figure size 432x288 with 1 Axes>"
            ]
          },
          "metadata": {
            "tags": [],
            "needs_background": "light"
          }
        }
      ]
    },
    {
      "cell_type": "code",
      "metadata": {
        "id": "Qo3cMLeyOuQa",
        "outputId": "a6ad3712-0446-4293-dcd8-08e44d6ff22e",
        "colab": {
          "base_uri": "https://localhost:8080/",
          "height": 550
        }
      },
      "source": [
        "Month_plot (df_3, 0 )"
      ],
      "execution_count": null,
      "outputs": [
        {
          "output_type": "stream",
          "text": [
            "133.76923076923077\n",
            "91 [2, 2, 9, 1, 13, 84, 44, 62, 52, 50, 70, 74, 64, 113, 83, 74, 77, 90, 103, 107, 47, 79, 130, 135, 54, 87, 93, 112, 93, 114, 95, 78, 112, 74, 89, 201, 130, 160, 78, 137, 65, 190, 97, 150, 89, 76, 100, 153, 158, 148, 162, 210, 142, 179, 165, 162, 174, 154, 245, 211, 120, 182, 149, 181, 158, 156, 186, 170, 163, 172, 239, 176, 229, 162, 153, 209, 271, 203, 221, 237, 210, 194, 223, 232, 194, 158, 195, 186, 219, 273, 50]\n"
          ],
          "name": "stdout"
        },
        {
          "output_type": "display_data",
          "data": {
            "image/png": "[encoded data removed]",
            "text/plain": [
              "<Figure size 1080x576 with 8 Axes>"
            ]
          },
          "metadata": {
            "tags": [],
            "needs_background": "light"
          }
        }
      ]
    },
    {
      "cell_type": "code",
      "metadata": {
        "id": "VARaCIojO3cy",
        "outputId": "c65f8d41-da89-4919-a3cf-74e726d9bdbd",
        "colab": {
          "base_uri": "https://localhost:8080/",
          "height": 530
        }
      },
      "source": [
        "Month_plot (df_4 , 0)"
      ],
      "execution_count": null,
      "outputs": [
        {
          "output_type": "stream",
          "text": [
            "65.29411764705883\n",
            "17 [5, 5, 4, 3, 4, 2, 2, 10, 30, 155, 134, 159, 167, 112, 151, 137, 30]\n"
          ],
          "name": "stdout"
        },
        {
          "output_type": "display_data",
          "data": {
            "image/png": "[encoded data removed]",
            "text/plain": [
              "<Figure size 1080x576 with 8 Axes>"
            ]
          },
          "metadata": {
            "tags": [],
            "needs_background": "light"
          }
        }
      ]
    },
    {
      "cell_type": "code",
      "metadata": {
        "id": "vXszSEv7zcdt"
      },
      "source": [
        "# m_df_n = m_df [['author', 'num posts by author']].drop_duplicates()"
      ],
      "execution_count": null,
      "outputs": []
    },
    {
      "cell_type": "code",
      "metadata": {
        "id": "aPnmrF1SqocH"
      },
      "source": [
        "# new_df = df [['author', 'num posts by author']].drop_duplicates()"
      ],
      "execution_count": null,
      "outputs": []
    },
    {
      "cell_type": "code",
      "metadata": {
        "id": "jYF15i1ConTP"
      },
      "source": [
        "# popo = m_df_n ['num posts by author'].to_numpy()"
      ],
      "execution_count": null,
      "outputs": []
    },
    {
      "cell_type": "code",
      "metadata": {
        "id": "9h8Nw_980Ev0"
      },
      "source": [
        "# unique_name = []\n",
        "# for i in L[:-1] : \n",
        "#   unique_name += i.author.unique().tolist()\n",
        "# unique_name = np.unique(np.array(unique_name))"
      ],
      "execution_count": null,
      "outputs": []
    },
    {
      "cell_type": "code",
      "metadata": {
        "id": "TzAJagdvleyr"
      },
      "source": [
        "# L = [df, df_2, df_3, df_4, df_5] \n",
        "# ans = 0\n",
        "# Temp = []\n",
        "# for k, name in enumerate (unique_name) :\n",
        "#   ans = 0\n",
        "#   for i in L : \n",
        "#     ans += i.loc[i['author'] == name].shape[0]\n",
        "#   Temp.append ([popo[k], ans])"
      ],
      "execution_count": null,
      "outputs": []
    },
    {
      "cell_type": "code",
      "metadata": {
        "id": "9i8Dem1c2fqt",
        "outputId": "17467581-2c83-4505-9df1-578b890aed12",
        "colab": {
          "base_uri": "https://localhost:8080/",
          "height": 34
        }
      },
      "source": [
        "# len(Temp)"
      ],
      "execution_count": null,
      "outputs": [
        {
          "output_type": "execute_result",
          "data": {
            "text/plain": [
              "9354"
            ]
          },
          "metadata": {
            "tags": []
          },
          "execution_count": 121
        }
      ]
    },
    {
      "cell_type": "code",
      "metadata": {
        "id": "YHMZ78-_oUAs"
      },
      "source": [
        "# temp = []\n",
        "# for l, j in enumerate (Temp) : \n",
        "#   temp.append ([int(j[0].split(\" \")[0]) , j[1] ]) "
      ],
      "execution_count": null,
      "outputs": []
    },
    {
      "cell_type": "code",
      "metadata": {
        "id": "1-8d4vzZwK9x",
        "outputId": "427d45aa-a72e-447b-dbca-102fbdebc069",
        "colab": {
          "base_uri": "https://localhost:8080/",
          "height": 34
        }
      },
      "source": [
        "# act_cnts = np.array(temp)\n",
        "# act_cnts = act_cnts[act_cnts[:,1]<50]\n",
        "# act_cnts = act_cnts[act_cnts[:,1]>5]\n",
        "# print(len(act_cnts))"
      ],
      "execution_count": null,
      "outputs": [
        {
          "output_type": "stream",
          "text": [
            "660\n"
          ],
          "name": "stdout"
        }
      ]
    }
  ]
}